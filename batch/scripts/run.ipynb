{
 "cells": [
  {
   "cell_type": "code",
   "execution_count": 5,
   "metadata": {},
   "outputs": [
    {
     "name": "stdout",
     "output_type": "stream",
     "text": [
      "Essential scripts execution completed. Check log directory.\n"
     ]
    }
   ],
   "source": [
    "# %% [markdown]\n",
    "### 必須ライブラリのインポート\n",
    "import subprocess\n",
    "import datetime\n",
    "import os\n",
    "\n",
    "# %% [markdown]\n",
    "### 基本設定セル\n",
    "SCRIPTS = [\n",
    "    #r\"M:\\ML\\ChatGPT\\gennote\\batch\\scripts\\search_china.py\",\n",
    "    #r\"M:\\ML\\ChatGPT\\gennote\\batch\\scripts\\search_jp.py\",\n",
    "    #r\"M:\\ML\\ChatGPT\\gennote\\batch\\scripts\\search_crypto.py\",\n",
    "    #r\"M:\\ML\\ChatGPT\\gennote\\batch\\scripts\\search_grobalmacro.py\"\n",
    "    #r\"M:\\ML\\ChatGPT\\gennote\\batch\\scripts\\search_energy.py\",\n",
    "    r\"M:\\ML\\ChatGPT\\gennote\\batch\\scripts\\search_estate.py\",\n",
    "    \n",
    "]\n",
    "\n",
    "LOGS_DIR = r\"M:\\ML\\ChatGPT\\gennote\\batch\\batch_logs\"\n",
    "CONDA_PATH = r\"C:\\Users\\100ca\\anaconda3\"\n",
    "\n",
    "# %% [markdown]\n",
    "### コア実行関数\n",
    "def run_core():\n",
    "    timestamp = datetime.datetime.now().strftime(\"%Y-%m-%d\")\n",
    "    log_file = os.path.join(LOGS_DIR, f\"{timestamp}.log\")\n",
    "    \n",
    "    try:\n",
    "        # Conda環境アクティベート\n",
    "        subprocess.check_call(f\"call {CONDA_PATH}\\\\condabin\\\\conda.bat activate base\", shell=True)\n",
    "        \n",
    "        # スクリプト実行ループ\n",
    "        with open(log_file, 'w') as log:\n",
    "            for script in SCRIPTS:\n",
    "                try:\n",
    "                    result = subprocess.run(\n",
    "                        ['python', script],\n",
    "                        check=True,\n",
    "                        capture_output=True,\n",
    "                        text=True,\n",
    "                        encoding='utf-8'\n",
    "                    )\n",
    "                    log.write(f\"[SUCCESS] {script}\\n{result.stdout}\\n\")\n",
    "                except subprocess.CalledProcessError as e:\n",
    "                    log.write(f\"[ERROR] {script}\\n{e.stderr}\\n\")\n",
    "                    \n",
    "    except Exception as e:\n",
    "        print(f\"Critical Error: {str(e)}\")\n",
    "    finally:\n",
    "        subprocess.call(f\"call {CONDA_PATH}\\\\condabin\\\\conda.bat deactivate\", shell=True)\n",
    "\n",
    "# %% [markdown]\n",
    "### 実行セル\n",
    "if __name__ == \"__main__\":\n",
    "    if not os.path.exists(LOGS_DIR):\n",
    "        os.makedirs(LOGS_DIR)\n",
    "        \n",
    "    run_core()\n",
    "    print(\"Essential scripts execution completed. Check log directory.\")"
   ]
  }
 ],
 "metadata": {
  "kernelspec": {
   "display_name": "base",
   "language": "python",
   "name": "python3"
  },
  "language_info": {
   "codemirror_mode": {
    "name": "ipython",
    "version": 3
   },
   "file_extension": ".py",
   "mimetype": "text/x-python",
   "name": "python",
   "nbconvert_exporter": "python",
   "pygments_lexer": "ipython3",
   "version": "3.10.9"
  }
 },
 "nbformat": 4,
 "nbformat_minor": 2
}
